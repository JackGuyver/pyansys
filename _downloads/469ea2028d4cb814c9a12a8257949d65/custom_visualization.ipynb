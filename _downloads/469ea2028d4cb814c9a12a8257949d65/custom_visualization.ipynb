{
  "cells": [
    {
      "cell_type": "code",
      "execution_count": null,
      "metadata": {
        "collapsed": false
      },
      "outputs": [],
      "source": [
        "%matplotlib inline\nfrom pyvista import set_plot_theme\nset_plot_theme('document')"
      ]
    },
    {
      "cell_type": "markdown",
      "metadata": {},
      "source": [
        "\n\nCustom Scalar Visualization\n~~~~~~~~~~~~~~~~~~~~~~~~~~~\n\nDisplay custom scalars using an existing mesh.\n"
      ]
    },
    {
      "cell_type": "code",
      "execution_count": null,
      "metadata": {
        "collapsed": false
      },
      "outputs": [],
      "source": [
        "import pyvista\nimport numpy as np\n\nimport pyansys\n\n# Download an example shaft modal analysis result file\nshaft = pyansys.download_shaft_modal()"
      ]
    },
    {
      "cell_type": "markdown",
      "metadata": {},
      "source": [
        "Each result file contains both a ``mesh`` property and a ``grid``\nproperty.  The ``mesh`` property can be through as the MAPDL\nrepresentation of the FEM while the ``grid`` property can be through\nof the Python visualizing property used to plot within Python.\n\n"
      ]
    },
    {
      "cell_type": "code",
      "execution_count": null,
      "metadata": {
        "collapsed": false
      },
      "outputs": [],
      "source": [
        "print('shaft.mesh:\\n', shaft.mesh)\nprint('-'*79)\nprint('shaft.grid:\\n', shaft.grid)"
      ]
    },
    {
      "cell_type": "markdown",
      "metadata": {},
      "source": [
        "Plotting\n~~~~~~~~\n\nThe grid instance is a `pyvista.UnstructuredGrid` part of the\n`pyvista` library.  This class allows for advanced plotting using\nVTK in just a few lines of code.  For example, you can plot the\nunderlying mesh with:\n\n"
      ]
    },
    {
      "cell_type": "code",
      "execution_count": null,
      "metadata": {
        "collapsed": false
      },
      "outputs": [],
      "source": [
        "shaft.grid.plot(color='w', smooth_shading=True)"
      ]
    },
    {
      "cell_type": "markdown",
      "metadata": {},
      "source": [
        "Plotting Node Scalars\n~~~~~~~~~~~~~~~~~~~~~\n\nIf you point-wise or cell-wise scalars (nodes and elements in FEA),\nyou can plot these scalars by setting the ``scalars=`` parameter.\nHere, I'm simply using the x location of the nodes to color the\nmesh.\n\nIt follows that you can use any set of scalars provided that it\nmatches the number of nodes in the unstructured grid or the number\nof cells in the unstructured grid.  Here, we're plotting node values.\n\n"
      ]
    },
    {
      "cell_type": "code",
      "execution_count": null,
      "metadata": {
        "collapsed": false
      },
      "outputs": [],
      "source": [
        "x_scalars = shaft.grid.points[:, 0]\nshaft.grid.plot(scalars=x_scalars, smooth_shading=True)"
      ]
    },
    {
      "cell_type": "markdown",
      "metadata": {},
      "source": [
        "Plotting With Missing Values\n~~~~~~~~~~~~~~~~~~~~~~~~~~~~\n\nIf you do not have values for every node (for example, the midside\nnodes), you can leave these values as NAN and the plotter will take\ncare of plotting only the real values.\n\nFor example, if you have calculated strain scalars that are only\navailable at certain nodes, you can still plot those.  This example\njust nulls out the first 2000 nodes to be able to visualize the\nmissing values.  If your are just missing midside values, your plot\nwill not show the missing values since `pyvista` only plots the edge\nnodes.\n\n"
      ]
    },
    {
      "cell_type": "code",
      "execution_count": null,
      "metadata": {
        "collapsed": false
      },
      "outputs": [],
      "source": [
        "pontoon = pyansys.download_pontoon()\nnnum, strain = pontoon.nodal_elastic_strain(0)\n\nscalars = strain[:, 0]\nscalars[:2000] = np.nan  # here, we simulate unknown values\n\npontoon.grid.plot(scalars=scalars, show_edges=True)"
      ]
    }
  ],
  "metadata": {
    "kernelspec": {
      "display_name": "Python 3",
      "language": "python",
      "name": "python3"
    },
    "language_info": {
      "codemirror_mode": {
        "name": "ipython",
        "version": 3
      },
      "file_extension": ".py",
      "mimetype": "text/x-python",
      "name": "python",
      "nbconvert_exporter": "python",
      "pygments_lexer": "ipython3",
      "version": "3.7.9"
    }
  },
  "nbformat": 4,
  "nbformat_minor": 0
}