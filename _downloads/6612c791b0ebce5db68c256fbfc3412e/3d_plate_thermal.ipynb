{
  "cells": [
    {
      "cell_type": "code",
      "execution_count": null,
      "metadata": {
        "collapsed": false
      },
      "outputs": [],
      "source": [
        "%matplotlib inline\nfrom pyvista import set_plot_theme\nset_plot_theme('document')"
      ]
    },
    {
      "cell_type": "markdown",
      "metadata": {},
      "source": [
        "\n\nBasic Thermal Analysis with pyansys\n~~~~~~~~~~~~~~~~~~~~~~~~~~~~~~~~~~~\n\nThis example demonstrates how you can use MAPDL to create a plate,\nimpose thermal boundary conditions, solve, and plot it all within\npyansys.\n\nFirst, start MAPDL as a service and disable all but error messages.\n"
      ]
    },
    {
      "cell_type": "code",
      "execution_count": null,
      "metadata": {
        "collapsed": false
      },
      "outputs": [],
      "source": [
        "# sphinx_gallery_thumbnail_number = 2\nimport os\nimport pyansys\n\nos.environ['I_MPI_SHM_LMT'] = 'shm'  # necessary on Ubuntu without \"smp\"\nmapdl = pyansys.launch_mapdl(loglevel='ERROR')"
      ]
    },
    {
      "cell_type": "markdown",
      "metadata": {},
      "source": [
        "Geometry and Material Properties\n~~~~~~~~~~~~~~~~~~~~~~~~~~~~~~~~\nCreate a simple beam, specify the material properties, and mesh it.\n\n"
      ]
    },
    {
      "cell_type": "code",
      "execution_count": null,
      "metadata": {
        "collapsed": false
      },
      "outputs": [],
      "source": [
        "mapdl.prep7()\nmapdl.mp('kxx', 1, 45)\nmapdl.et(1, 90)\nmapdl.block(-0.3, 0.3, -0.46, 1.34, -0.2, -0.2 + 0.02)\nmapdl.vsweep(1)\nmapdl.eplot()"
      ]
    },
    {
      "cell_type": "markdown",
      "metadata": {},
      "source": [
        "Boundary Conditions\n~~~~~~~~~~~~~~~~~~~\nSet the thermal boundary conditions\n\n"
      ]
    },
    {
      "cell_type": "code",
      "execution_count": null,
      "metadata": {
        "collapsed": false
      },
      "outputs": [],
      "source": [
        "mapdl.asel('S', vmin=3)\nmapdl.nsla()\nmapdl.d('all', 'temp', 5)\nmapdl.asel('S', vmin=4)\nmapdl.nsla()\nmapdl.d('all', 'temp', 100)\nout = mapdl.allsel()"
      ]
    },
    {
      "cell_type": "markdown",
      "metadata": {},
      "source": [
        "Solve\n~~~~~\nSolve the thermal static analysis and print the results\n\n"
      ]
    },
    {
      "cell_type": "code",
      "execution_count": null,
      "metadata": {
        "collapsed": false
      },
      "outputs": [],
      "source": [
        "mapdl.vsweep(1)\nmapdl.run('/SOLU')\nprint(mapdl.solve())\nout = mapdl.finish()"
      ]
    },
    {
      "cell_type": "markdown",
      "metadata": {},
      "source": [
        "Post-Processing using MAPDL\n~~~~~~~~~~~~~~~~~~~~~~~~~~~\nView the thermal solution of the beam by getting the results\ndirectly through MAPDL.\n\n"
      ]
    },
    {
      "cell_type": "code",
      "execution_count": null,
      "metadata": {
        "collapsed": false
      },
      "outputs": [],
      "source": [
        "mapdl.post1()\nmapdl.set(1, 1)\nmapdl.post_processing.plot_nodal_temperature()"
      ]
    },
    {
      "cell_type": "markdown",
      "metadata": {},
      "source": [
        "Alternatively you could also use the result object that reads in the\nresult file using pyansys\n\n"
      ]
    },
    {
      "cell_type": "code",
      "execution_count": null,
      "metadata": {
        "collapsed": false
      },
      "outputs": [],
      "source": [
        "nnum, temp = mapdl.result.nodal_temperature(0)\n# this is the same as pyansys.read_binary(mapdl._result_file)\n\nprint(mapdl.result.filename)\nprint(temp)"
      ]
    }
  ],
  "metadata": {
    "kernelspec": {
      "display_name": "Python 3",
      "language": "python",
      "name": "python3"
    },
    "language_info": {
      "codemirror_mode": {
        "name": "ipython",
        "version": 3
      },
      "file_extension": ".py",
      "mimetype": "text/x-python",
      "name": "python",
      "nbconvert_exporter": "python",
      "pygments_lexer": "ipython3",
      "version": "3.7.9"
    }
  },
  "nbformat": 4,
  "nbformat_minor": 0
}