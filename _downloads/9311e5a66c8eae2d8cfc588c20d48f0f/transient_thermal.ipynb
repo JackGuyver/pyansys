{
  "cells": [
    {
      "cell_type": "code",
      "execution_count": null,
      "metadata": {
        "collapsed": false
      },
      "outputs": [],
      "source": [
        "%matplotlib inline\nfrom pyvista import set_plot_theme\nset_plot_theme('document')"
      ]
    },
    {
      "cell_type": "markdown",
      "metadata": {},
      "source": [
        "\n\nExample Thermal Transient Analysis\n~~~~~~~~~~~~~~~~~~~~~~~~~~~~~~~~~~\nThis example shows how you can use `pyansys` to input a time dependent\ntemperature table to vary the temperature at a beam.  This uses\nconvection loads with independently varying convection coefficient and\nbulk temperature.\n\nExample adapted from:\nhttps://www.simutechgroup.com/tips-and-tricks/fea-articles/97-fea-tips-tricks-thermal-transient\n\nThanks SimuTech!\n"
      ]
    },
    {
      "cell_type": "code",
      "execution_count": null,
      "metadata": {
        "collapsed": false
      },
      "outputs": [],
      "source": [
        "import os\nimport numpy as np\n\nimport matplotlib.pyplot as plt\nimport pyansys\n\nos.environ['I_MPI_SHM_LMT'] = 'shm'  # necessary on Ubuntu\nmapdl = pyansys.launch_mapdl()\n\nmapdl.clear()\nmapdl.prep7()\n\n# Material properties-- 1020 steel in imperial\nmapdl.units('BIN')  # U.S. Customary system using inches (in, lbf*s2/in, s, \u00b0F).\nmapdl.mp('EX', 1, 30023280.0)\nmapdl.mp('NUXY', 1, 0.290000000)\nmapdl.mp('ALPX', 1, 8.388888889E-06)\nmapdl.mp('DENS', 1, 7.346344000E-04)\nmapdl.mp('KXX', 1, 6.252196000E-04)\nmapdl.mp('C', 1, 38.6334760)\n\n# use a thermal element type\nmapdl.et(1, 'SOLID70')"
      ]
    },
    {
      "cell_type": "markdown",
      "metadata": {},
      "source": [
        "Geometry and Mesh\n~~~~~~~~~~~~~~~~~\nCreate a block 5x1x1 inches in size and mesh it\n\n"
      ]
    },
    {
      "cell_type": "code",
      "execution_count": null,
      "metadata": {
        "collapsed": false
      },
      "outputs": [],
      "source": [
        "mapdl.block(0, 5, 0, 1, 0, 1)\nmapdl.lesize('ALL', 0.2, layer1=1)\n\nmapdl.mshape(0, '3D')\nmapdl.mshkey(1)\nmapdl.vmesh(1)\nmapdl.eplot()"
      ]
    },
    {
      "cell_type": "markdown",
      "metadata": {},
      "source": [
        "Setup the Solution\n~~~~~~~~~~~~~~~~~~\nSolve a transient analysis while ramping the load up and down.\n\nNote the solution time commands in the above code fragment. The\nfinal TIME is set to 1000 seconds. Time substep size is permitted to\nrange from a minimum of 2 seconds to a maximum of 50 seconds in the\nDELTIM command. A first substep of 10 seconds is applied. Automatic\ntime substep sizing will vary substeps between the extremes.\n\nA Table Array is used for the time-dependent Convection Coefficient\nvalues. Times go in the Zeroth column, while associated Convection\nCoefficients go in the First column.\n\n"
      ]
    },
    {
      "cell_type": "code",
      "execution_count": null,
      "metadata": {
        "collapsed": false
      },
      "outputs": [],
      "source": [
        "mapdl.run('/SOLU')\nmapdl.antype(4)            # transient analysis\nmapdl.trnopt('FULL')       # full transient analysis\nmapdl.kbc(0)               # ramp loads up and down\n\n# Time stepping\nend_time = 1500\nmapdl.time(end_time)       # end time for load step\nmapdl.autots('ON')         # use automatic time stepping\n\n\n# setup where the subset time is 10 seconds, time\nmapdl.deltim(10, 2, 25)    # substep size (seconds)\n#                          -- minimum value shorter than smallest\n#                            time change in the table arrays below\n\n# Create a table of convection times and coefficients and trasfer it to MAPDL\nmy_conv = np.array([[0, 0.001],      # start time\n                    [120, 0.001],    # end of first \"flat\" zone\n                    [130, 0.005],    # ramps up in 10 seconds\n                    [700, 0.005],    # end of second \"flat zone\n                    [710, 0.002],    # ramps down in 10 seconds\n                    [end_time, 0.002]])  # end of third \"flat\" zone\nmapdl.load_table('my_conv', my_conv, 'TIME')\n\n\n# Create a table of bulk temperatures for a given time and transfer to MAPDL\nmy_bulk = np.array([[0, 100],      # start time\n                    [120, 100],    # end of first \"flat\" zone\n                    [500, 300],    # ramps up in 380 seconds\n                    [700, 300],    # hold temperature for 200 seconds\n                    [900, 75],     # temperature ramps down for 200 seconds\n                    [end_time, 75]])   # end of second \"flat\" zone\nmapdl.load_table('my_bulk', my_bulk, 'TIME')"
      ]
    },
    {
      "cell_type": "markdown",
      "metadata": {},
      "source": [
        "The Transient Thermal Solve\n~~~~~~~~~~~~~~~~~~~~~~~~~~~\nThis model is to be solved in one time step. For this reason, a\n``TSRES`` command is used for force the solver to include a\n``SOLVE`` at every time point in the two Table Arrays above. This\nensures that the time-dependent curves are followed by the transient\nanalysis. Intermediate solutions between the ``TSRES`` time points\nwill be included according to the ``DELTIM`` command and the\nautomatic time stepping decisions of the ANSYS solver.\n\nIn this example, the times for the ``TSRES`` array illustrated above\nhave been determined manually. A set of APDL commands could be used\nto automate this process for chosen Table Array entries, in more\ncomplex modeling situations, including checks that no time intervals\nare too short.\n\nResults at substeps will be wanted if the intermediate solutions of\nthe time-transient analysis are to be available for post-processing\nreview. The ``OUTRES`` command is used to control how much is written to\nthe results file. In this example the OUTRES command will be used to\nsimply write out all results for all substeps. In work with large\nmodels and may substeps, too much data will be written if such a\nstrategy is employed for ``OUTRES``, and other options will need to be\nconsidered. Note that one option for the ``OUTRES`` command is to\ncontrol times at which results are written with a Table Array, much\nas is used in the ``TSRES`` command, but typically for a larger number\nof time points, although including those of the TSRES array.\n\nThe initial condition starting temperature is controlled for this\nexample with the ``TUNIF`` command. Note that thermal transient\nanalyses can also have a starting temperature profile formed by a\nstatic thermal ``SOLVE``. If a user neglects to set an initial\ntemperature in ANSYS Mechanical APDL, a value of zero will be used,\nwhich is often not what is desired.\n\nThe thermal convective loads are applied with an SF family\ncommand\u2014in this example a convective load is applied to the end face\nof the solid model by the SFA command, using the Table Array entries\nfor convection and bulk temperature that were developed above. The\nTable Array names are surrounded with percent signs (%).  A SOLVE is\nthen performed.\n\n"
      ]
    },
    {
      "cell_type": "code",
      "execution_count": null,
      "metadata": {
        "collapsed": false
      },
      "outputs": [],
      "source": [
        "# Force transient solve to include the times within the conv and bulk arrays\n# my_tres = np.unique(np.vstack((my_bulk[:, 0], my_conv[:, 0])))[0]  # same as\nmapdl.parameters['my_tsres'] = [120, 130, 500, 700, 710, 900, end_time]\nmapdl.tsres('%my_tsres%')\n\nmapdl.outres('ERASE')\nmapdl.outres('ALL', 'ALL')\n\nmapdl.eqslv('SPARSE')  # use sparse solver\nmapdl.tunif(75)        # force uniform starting temperature (otherwise zero)\n\n# apply the convective load (convection coefficient plus bulk temperature)\n# use \"%\" around table array names\nmapdl.sfa(6, 1, 'CONV', '%my_conv%', ' %my_bulk%')\n\n# solve\nmapdl.solve()"
      ]
    },
    {
      "cell_type": "markdown",
      "metadata": {},
      "source": [
        "Post-Processing\n~~~~~~~~~~~~~~~\nAnimate the temperature as a function of time.  Disable writing to\ndisk to speed up the animation.\n\n"
      ]
    },
    {
      "cell_type": "code",
      "execution_count": null,
      "metadata": {
        "collapsed": false
      },
      "outputs": [],
      "source": [
        "# Animate every 5th result\nresult = mapdl.result\nrnums = range(0, result.nsets, 5)\nresult.animate_nodal_solution_set(rnums, stitle='Temperature',\n                                  movie_filename='animation.gif',\n                                  loop=False)"
      ]
    },
    {
      "cell_type": "markdown",
      "metadata": {},
      "source": [
        "Visualize a Slice\n~~~~~~~~~~~~~~~~~\nVisualize a slice through the dataset using ``pyvista``\nfor more details visit <https://docs.pyvista.org/>`_.\n\n"
      ]
    },
    {
      "cell_type": "code",
      "execution_count": null,
      "metadata": {
        "collapsed": false
      },
      "outputs": [],
      "source": [
        "# get the temperature of a result set\nnnum, temp = result.nodal_temperature(30)\n\n# Load this result into the underlying VTK grid\ngrid = result.grid\ngrid['temperature'] = temp\n\n# generate a single horizontal slice slice along the XY plane\nsingle_slice = grid.slice(normal=[0, 0, 1], origin=[0, 0, 0.5])\nsingle_slice.plot(scalars='temperature')"
      ]
    },
    {
      "cell_type": "markdown",
      "metadata": {},
      "source": [
        "Visualize Several Slices\n~~~~~~~~~~~~~~~~~~~~~~~~\nThis shows how you can visualize a series of slices through a dataset\n\n"
      ]
    },
    {
      "cell_type": "code",
      "execution_count": null,
      "metadata": {
        "collapsed": false
      },
      "outputs": [],
      "source": [
        "# get the temperature of a different result set\nnnum, temp = result.nodal_temperature(120)\n\n# Load this result into the underlying VTK grid\ngrid = result.grid\ngrid['temperature'] = temp\n\n# generate a single horizontal slice slice along the XY plane\nslices = grid.slice_along_axis(7, 'y')\nslices.plot(scalars='temperature', lighting=False, show_edges=True)"
      ]
    },
    {
      "cell_type": "markdown",
      "metadata": {},
      "source": [
        "Temperature at a Single Point\n~~~~~~~~~~~~~~~~~~~~~~~~~~~~~\nExtract the temperature at a single node and plot it with respect to\nthe input temperatures using ``pyansys``\n\n"
      ]
    },
    {
      "cell_type": "code",
      "execution_count": null,
      "metadata": {
        "collapsed": false
      },
      "outputs": [],
      "source": [
        "# get the index of node 12\nidx = np.nonzero(result.mesh.nnum == 12)[0][0]\n\n# get the temperature at that index for each result\nnode_temp = [result.nodal_temperature(i)[1][idx] for i in range(result.nsets)]\n\n# plot this as a function of time\nplt.plot(result.time_values, node_temp, label='Node 12')\nplt.plot(my_bulk[:, 0], my_bulk[:, 1], ':', label='Input')\nplt.legend()\nplt.xlabel('Time (seconds)')\nplt.ylabel('Temperature ($^\\circ$F)')\nplt.show()"
      ]
    }
  ],
  "metadata": {
    "kernelspec": {
      "display_name": "Python 3",
      "language": "python",
      "name": "python3"
    },
    "language_info": {
      "codemirror_mode": {
        "name": "ipython",
        "version": 3
      },
      "file_extension": ".py",
      "mimetype": "text/x-python",
      "name": "python",
      "nbconvert_exporter": "python",
      "pygments_lexer": "ipython3",
      "version": "3.7.9"
    }
  },
  "nbformat": 4,
  "nbformat_minor": 0
}