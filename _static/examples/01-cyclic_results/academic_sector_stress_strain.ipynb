{
  "cells": [
    {
      "cell_type": "code",
      "execution_count": null,
      "metadata": {
        "collapsed": false
      },
      "outputs": [],
      "source": [
        "%matplotlib inline\nfrom pyvista import set_plot_theme\nset_plot_theme('document')"
      ]
    },
    {
      "cell_type": "markdown",
      "metadata": {},
      "source": [
        "\n\nStress and Strain from a Cyclic Modal Analysis\n~~~~~~~~~~~~~~~~~~~~~~~~~~~~~~~~~~~~~~~~~~~~~~\n\nThis example shows how to extract strain and stress from a cyclic\nmodal analysis.\n"
      ]
    },
    {
      "cell_type": "code",
      "execution_count": null,
      "metadata": {
        "collapsed": false
      },
      "outputs": [],
      "source": [
        "# sphinx_gallery_thumbnail_number = 2\n\nimport pyansys"
      ]
    },
    {
      "cell_type": "markdown",
      "metadata": {},
      "source": [
        "Download the academic modal analysis file\n\n"
      ]
    },
    {
      "cell_type": "code",
      "execution_count": null,
      "metadata": {
        "collapsed": false
      },
      "outputs": [],
      "source": [
        "rotor = pyansys.download_academic_rotor_result()\nprint(rotor)"
      ]
    },
    {
      "cell_type": "markdown",
      "metadata": {},
      "source": [
        "Plot nodal displacement for result ``(2, 2)``, which corresponds to\nthe load step and sub step in fortran indexing.  You could have also\nused the python cumulative index 3.\nrotor._positive_cyclic_dir = True\n\n"
      ]
    },
    {
      "cell_type": "code",
      "execution_count": null,
      "metadata": {
        "collapsed": false
      },
      "outputs": [],
      "source": [
        "_ = rotor.plot_nodal_displacement((2, 2), 'x', cpos='xy')"
      ]
    },
    {
      "cell_type": "markdown",
      "metadata": {},
      "source": [
        "Extract the nodal elastic strain for the fourth cumulative result.\nBecause pyansys uses zero based indexing, we have to input \"3\" here.\n\nDepending on the version of ANSYS, MAPDL either does or does not\nwrite the duplicate sector for a result.  If MAPDL does not write a\nduplicate sector, pyansys will search for a duplicate mode and use\nthat as the duplicate sector in order to be able to expand to the\nfull rotor.  Regardless of if there is or isn't a duplicate sector,\nonly the master sector will be output.\n\n<div class=\"alert alert-danger\"><h4>Warning</h4><p>Cyclic results extracted from pyansys may disagree with MAPDL\n    due to several issues/variations when extracting cyclic results\n    within MAPDL using ``PowerGraphics``.  By default, MAPDL uses\n    ``\\EDGE,,,45``, which disables averaging across surface features\n    that exceed 45 degrees, but only writes one value when outputting\n    with ``PRNSOL``.  On the other hand ``pyansys`` always averages,\n    so you will see differences between MAPDL and ``pyansys`` in\n    these cases.</p></div>\n\n"
      ]
    },
    {
      "cell_type": "code",
      "execution_count": null,
      "metadata": {
        "collapsed": false
      },
      "outputs": [],
      "source": [
        "nnum, strain = rotor.nodal_elastic_strain(3, full_rotor=True)"
      ]
    },
    {
      "cell_type": "markdown",
      "metadata": {},
      "source": [
        "Plot the nodal elastic strain in the \"Z\" direction for result ``(5, 2)``.\n\n`pyansys` can plot the displacements while also plotting the\nstress/strain.  Since modal results may or may not be normalized,\nyou will have to adjust the ``displacement_factor`` to scale up or\ndown the displacement to get a reasonable looking result.  Disable\nplotting the displacement by setting ``show_displacement=False``.\n\nAdditionally, you can also save screenshots by setting\n``screenshot`` to a filename with\n``screenshot='elastic_strain.png'``.  If you wish to do this without\nmanually closing the plotting screen, set ``off_screen=True``.  This\ncan help you automate saving screenshots.\n\n"
      ]
    },
    {
      "cell_type": "code",
      "execution_count": null,
      "metadata": {
        "collapsed": false
      },
      "outputs": [],
      "source": [
        "_ = rotor.plot_nodal_elastic_strain((5, 2), 'Z', show_displacement=True,\n                                    displacement_factor=0.01)"
      ]
    },
    {
      "cell_type": "markdown",
      "metadata": {},
      "source": [
        "Plot the nodal elastic stress in the \"Z\" direction for this rotor.  Since this is plotting the other pair of modes for the 5th loadstep, the displacement of this response is 90 degrees out of phase of result ``(5, 2)``\n\nAvailable stress components are ``['Y', 'Z', 'XY', 'YZ', 'XZ']``\n\n"
      ]
    },
    {
      "cell_type": "code",
      "execution_count": null,
      "metadata": {
        "collapsed": false
      },
      "outputs": [],
      "source": [
        "_ = rotor.plot_nodal_stress((5, 1), 'Z', show_displacement=True,\n                            displacement_factor=0.01)"
      ]
    },
    {
      "cell_type": "markdown",
      "metadata": {},
      "source": [
        "You can also plot the nodal von mises principal stress.  This plot\nshows the principal stress for result ``(5, 2)``.\n\nAvailable stress components are ``['S1', 'S2', 'S3', 'SINT', 'SEQV']``.\n\n"
      ]
    },
    {
      "cell_type": "code",
      "execution_count": null,
      "metadata": {
        "collapsed": false
      },
      "outputs": [],
      "source": [
        "_ = rotor.plot_principal_nodal_stress((5, 2), 'SEQV', show_displacement=True,\n                                      displacement_factor=0.01)"
      ]
    }
  ],
  "metadata": {
    "kernelspec": {
      "display_name": "Python 3",
      "language": "python",
      "name": "python3"
    },
    "language_info": {
      "codemirror_mode": {
        "name": "ipython",
        "version": 3
      },
      "file_extension": ".py",
      "mimetype": "text/x-python",
      "name": "python",
      "nbconvert_exporter": "python",
      "pygments_lexer": "ipython3",
      "version": "3.7.9"
    }
  },
  "nbformat": 4,
  "nbformat_minor": 0
}